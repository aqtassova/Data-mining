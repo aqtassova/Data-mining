{
 "cells": [
  {
   "cell_type": "code",
   "execution_count": 14,
   "id": "62d81d29-2f9f-4625-ad0c-29c22dda904f",
   "metadata": {},
   "outputs": [
    {
     "name": "stdout",
     "output_type": "stream",
     "text": [
      "   numerical_feature_1  numerical_feature_2  categorical_feature_A  \\\n",
      "0                 0.00                 0.00                    1.0   \n",
      "1                 0.25                 0.25                    0.0   \n",
      "2                 0.50                 0.50                    1.0   \n",
      "3                 0.75                 0.75                    0.0   \n",
      "4                 1.00                 1.00                    0.0   \n",
      "\n",
      "   categorical_feature_B  categorical_feature_C binned_feature  \n",
      "0                    0.0                    0.0            NaN  \n",
      "1                    1.0                    0.0            Low  \n",
      "2                    0.0                    0.0         Medium  \n",
      "3                    0.0                    1.0           High  \n",
      "4                    1.0                    0.0           High  \n"
     ]
    }
   ],
   "source": [
    "import pandas as pd\n",
    "from sklearn.preprocessing import MinMaxScaler, OneHotEncoder\n",
    "\n",
    "# Sample DataFrame\n",
    "data = {\n",
    "    'numerical_feature_1': [1, 2, 3, 4, 5],\n",
    "    'numerical_feature_2': [10, 20, 30, 40, 50],\n",
    "    'categorical_feature': ['A', 'B', 'A', 'C', 'B']\n",
    "}\n",
    "\n",
    "df = pd.DataFrame(data)\n",
    "\n",
    "# 1. Нормализовать числовые характеристики с помощью масштабирования Min-Max\n",
    "min_max_scaler = MinMaxScaler()\n",
    "df[['numerical_feature_1', 'numerical_feature_2']] = min_max_scaler.fit_transform(df[['numerical_feature_1', 'numerical_feature_2']])\n",
    "\n",
    "\n",
    "# 2. Однократное кодирование категориальных переменных\n",
    "one_hot_encoder = OneHotEncoder(sparse=False)\n",
    "encoded_features = one_hot_encoder.fit_transform(df[['categorical_feature']])\n",
    "encoded_df = pd.DataFrame(encoded_features, columns=one_hot_encoder.get_feature_names_out(['categorical_feature']))\n",
    "\n",
    "# Объединить закодированные функции с исходным DataFrame\n",
    "df = pd.concat([df, encoded_df], axis=1).drop(columns=['categorical_feature'])\n",
    "\n",
    "# 3. Разделить непрерывные переменные на дискретные интервалы\n",
    "df['binned_feature'] = pd.cut(df['numerical_feature_1'], bins=[0, 0.33, 0.67, 1], labels=['Low', 'Medium', 'High'])\n",
    "\n",
    "# Отобразить окончательный преобразованный DataFrame\n",
    "print(df)\n",
    "\n",
    "\n"
   ]
  },
  {
   "cell_type": "code",
   "execution_count": null,
   "id": "95f23851-c783-472c-816a-cf00357ba92b",
   "metadata": {},
   "outputs": [],
   "source": []
  },
  {
   "cell_type": "code",
   "execution_count": null,
   "id": "8ad90d33-ce6a-4fb8-b338-372888410469",
   "metadata": {},
   "outputs": [],
   "source": []
  }
 ],
 "metadata": {
  "kernelspec": {
   "display_name": "Python 3 (ipykernel)",
   "language": "python",
   "name": "python3"
  },
  "language_info": {
   "codemirror_mode": {
    "name": "ipython",
    "version": 3
   },
   "file_extension": ".py",
   "mimetype": "text/x-python",
   "name": "python",
   "nbconvert_exporter": "python",
   "pygments_lexer": "ipython3",
   "version": "3.9.12"
  }
 },
 "nbformat": 4,
 "nbformat_minor": 5
}
