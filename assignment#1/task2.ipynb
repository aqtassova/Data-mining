{
 "cells": [
  {
   "cell_type": "code",
   "execution_count": 10,
   "id": "62d81d29-2f9f-4625-ad0c-29c22dda904f",
   "metadata": {},
   "outputs": [
    {
     "name": "stdout",
     "output_type": "stream",
     "text": [
      "Duration    0\n",
      "Pulse       0\n",
      "Maxpulse    0\n",
      "Calories    5\n",
      "dtype: int64\n",
      "     Duration  Pulse  Maxpulse  Calories\n",
      "0          60    110       130     409.1\n",
      "1          60    117       145     479.0\n",
      "2          60    103       135     340.0\n",
      "3          45    109       175     282.4\n",
      "4          45    117       148     406.0\n",
      "..        ...    ...       ...       ...\n",
      "164        60    105       140     290.8\n",
      "165        60    110       145     300.0\n",
      "166        60    115       145     310.2\n",
      "167        75    120       150     320.4\n",
      "168        75    125       150     330.4\n",
      "\n",
      "[164 rows x 4 columns]\n",
      "     Duration  Pulse  Maxpulse  Calories\n",
      "0          60    110       130     409.1\n",
      "1          60    117       145     479.0\n",
      "2          60    103       135     340.0\n",
      "3          45    109       175     282.4\n",
      "4          45    117       148     406.0\n",
      "..        ...    ...       ...       ...\n",
      "164        60    105       140     290.8\n",
      "165        60    110       145     300.0\n",
      "166        60    115       145     310.2\n",
      "167        75    120       150     320.4\n",
      "168        75    125       150     330.4\n",
      "\n",
      "[169 rows x 4 columns]\n"
     ]
    }
   ],
   "source": [
    "import pandas as pd\n",
    "\n",
    "# Загрузите CSV-файл в DataFrame\n",
    "df = pd.read_csv('data.csv')\n",
    "\n",
    "# Определить недостающие значения\n",
    "missing_values = df.isnull().sum()\n",
    "print(missing_values)\n",
    "\n",
    "# Удалить строки с отсутствующими значениями\n",
    "df_dropped = df.dropna()\n",
    "print(df_dropped)\n",
    "\n",
    "# # Заполните пропущенные значения средним значением столбца.\n",
    "# df_filled_mean = df.fillna(df.mean())\n",
    "# print(df_filled_mean)\n",
    "\n",
    "# # Заполните пропущенные значения медианой столбца.\n",
    "# df_filled_median = df.fillna(df.median())\n",
    "# print(df_filled_median)\n",
    "\n",
    "# # Заполните пропущенные значения определенным значением, например, 100.\n",
    "# df_filled_specific = df.fillna(100)\n",
    "# print(df_filled_specific)\n",
    "\n",
    "# # Прямое заполнение пропущенных значений\n",
    "# df_ffill = df.fillna(method='ffill')\n",
    "# print(df_ffill)\n",
    "\n",
    "# Обратное заполнение пропущенных значений\n",
    "df_bfill = df.fillna(method='bfill')\n",
    "print(df_bfill)\n",
    "\n"
   ]
  },
  {
   "cell_type": "code",
   "execution_count": null,
   "id": "95f23851-c783-472c-816a-cf00357ba92b",
   "metadata": {},
   "outputs": [],
   "source": []
  },
  {
   "cell_type": "code",
   "execution_count": null,
   "id": "8ad90d33-ce6a-4fb8-b338-372888410469",
   "metadata": {},
   "outputs": [],
   "source": []
  },
  {
   "cell_type": "code",
   "execution_count": null,
   "id": "b3d72d38-f6be-491d-822e-87f3a8053a49",
   "metadata": {},
   "outputs": [],
   "source": []
  }
 ],
 "metadata": {
  "kernelspec": {
   "display_name": "Python 3 (ipykernel)",
   "language": "python",
   "name": "python3"
  },
  "language_info": {
   "codemirror_mode": {
    "name": "ipython",
    "version": 3
   },
   "file_extension": ".py",
   "mimetype": "text/x-python",
   "name": "python",
   "nbconvert_exporter": "python",
   "pygments_lexer": "ipython3",
   "version": "3.9.12"
  }
 },
 "nbformat": 4,
 "nbformat_minor": 5
}
