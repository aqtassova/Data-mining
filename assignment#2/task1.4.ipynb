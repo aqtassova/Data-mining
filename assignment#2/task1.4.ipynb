{
 "cells": [
  {
   "cell_type": "code",
   "execution_count": 3,
   "id": "9fdd759a-a3bc-405f-9dff-adfe5d6a63ac",
   "metadata": {},
   "outputs": [
    {
     "name": "stdout",
     "output_type": "stream",
     "text": [
      "Selected Features Coefficients:  [   0.         -173.27234183  558.93537748  339.35670724  -58.72262052\n",
      "   -0.         -274.11401212    0.          372.84221354   25.58549157]\n",
      "Selected feature indices: [1 2 3 4 6 8 9]\n",
      "Mean Squared Error: 2775.1600\n"
     ]
    }
   ],
   "source": [
    "# Import necessary libraries\n",
    "from sklearn.datasets import load_diabetes\n",
    "from sklearn.linear_model import Lasso\n",
    "from sklearn.model_selection import train_test_split\n",
    "from sklearn.metrics import mean_squared_error\n",
    "import numpy as np\n",
    "\n",
    "# Load the Diabetes dataset\n",
    "diabetes = load_diabetes()\n",
    "X = diabetes.data\n",
    "y = diabetes.target\n",
    "\n",
    "# Split the dataset into training and testing sets\n",
    "X_train, X_test, y_train, y_test = train_test_split(X, y, test_size=0.3, random_state=42)\n",
    "\n",
    "# Apply Lasso regression for feature selection\n",
    "lasso = Lasso(alpha=0.1)\n",
    "lasso.fit(X_train, y_train)\n",
    "\n",
    "# Get the coefficients (which features are selected)\n",
    "coef = lasso.coef_\n",
    "\n",
    "# Print the selected features\n",
    "print(\"Selected Features Coefficients: \", coef)\n",
    "\n",
    "# Filter out non-zero coefficients (selected features)\n",
    "selected_features = np.where(coef != 0)[0]\n",
    "print(\"Selected feature indices:\", selected_features)\n",
    "\n",
    "# Evaluate model performance on test set\n",
    "y_pred = lasso.predict(X_test)\n",
    "mse = mean_squared_error(y_test, y_pred)\n",
    "print(f\"Mean Squared Error: {mse:.4f}\")\n"
   ]
  },
  {
   "cell_type": "code",
   "execution_count": null,
   "id": "9c24c7d9-7bf6-4469-a0e5-2ec3cef0e865",
   "metadata": {},
   "outputs": [],
   "source": []
  },
  {
   "cell_type": "code",
   "execution_count": null,
   "id": "5e9dcd19-cf75-4772-845b-7089588d63df",
   "metadata": {},
   "outputs": [],
   "source": []
  }
 ],
 "metadata": {
  "kernelspec": {
   "display_name": "Python 3 (ipykernel)",
   "language": "python",
   "name": "python3"
  },
  "language_info": {
   "codemirror_mode": {
    "name": "ipython",
    "version": 3
   },
   "file_extension": ".py",
   "mimetype": "text/x-python",
   "name": "python",
   "nbconvert_exporter": "python",
   "pygments_lexer": "ipython3",
   "version": "3.9.12"
  }
 },
 "nbformat": 4,
 "nbformat_minor": 5
}
